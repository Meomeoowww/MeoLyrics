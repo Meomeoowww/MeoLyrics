{
  "nbformat": 4,
  "nbformat_minor": 0,
  "metadata": {
    "kernelspec": {
      "name": "python3",
      "display_name": "Python 3"
    },
    "language_info": {
      "codemirror_mode": {
        "name": "ipython",
        "version": 3
      },
      "file_extension": ".py",
      "mimetype": "text/x-python",
      "name": "python",
      "nbconvert_exporter": "python",
      "pygments_lexer": "ipython3",
      "version": "3.7.3"
    },
    "colab": {
      "name": "Rev.1 of Natural Language Processing and Hip Hop Songs.ipynb",
      "provenance": [],
      "collapsed_sections": [],
      "toc_visible": true,
      "machine_shape": "hm",
      "include_colab_link": true
    },
    "accelerator": "GPU"
  },
  "cells": [
    {
      "cell_type": "markdown",
      "metadata": {
        "id": "view-in-github",
        "colab_type": "text"
      },
      "source": [
        "<a href=\"https://colab.research.google.com/github/Meomeoowww/MeoLyrics/blob/master/Rev_1_of_Natural_Language_Processing_and_Hip_Hop_Songs.ipynb\" target=\"_parent\"><img src=\"https://colab.research.google.com/assets/colab-badge.svg\" alt=\"Open In Colab\"/></a>"
      ]
    },
    {
      "cell_type": "markdown",
      "metadata": {
        "id": "7Ird1w9fHFbI",
        "colab_type": "text"
      },
      "source": [
        "# Theme analysis in Rap Songs : Practical case  of Natural Language Processing"
      ]
    },
    {
      "cell_type": "markdown",
      "metadata": {
        "id": "9CQRpTdkHFbS",
        "colab_type": "text"
      },
      "source": [
        "After going through my course content on Natural language processing I decided to give a try.\n",
        "\n",
        "We aimed to use Natural Language Processing with non-negative Matrix Factorization approach to resume main theme in Hip Hop songs.\n",
        "\n",
        "We started by previously building a web scraper to collect Lyrics from Genius.com api. The scaper extracts a list of Hip Hop Artists from Wikipedia ((https://en.wikipedia.org/wiki/List_of_hip_hop_musicians) and then requests lyrics of these artists. For more details on this scrap please read my article about it."
      ]
    },
    {
      "cell_type": "markdown",
      "metadata": {
        "id": "r4iyRdtNHFba",
        "colab_type": "text"
      },
      "source": [
        "## Goals\n",
        "\n",
        "* Natural langage processing with collected data\n",
        "\n",
        "    1- use Tfidfvectorizer to fit transform and create a sparse matrix (tfidf)\n",
        "    \n",
        "    2- construct NMF based on sparse matrix to analyze thematics"
      ]
    },
    {
      "cell_type": "markdown",
      "metadata": {
        "id": "DfqdX3OiFX0i",
        "colab_type": "text"
      },
      "source": [
        ""
      ]
    },
    {
      "cell_type": "markdown",
      "metadata": {
        "id": "2mVqzGQvFaWL",
        "colab_type": "text"
      },
      "source": [
        "## Data Processing"
      ]
    },
    {
      "cell_type": "markdown",
      "metadata": {
        "id": "SIOioh3JFw-7",
        "colab_type": "text"
      },
      "source": [
        "We will start by importing all necessary modules:"
      ]
    },
    {
      "cell_type": "code",
      "metadata": {
        "id": "hzHYs4WHHFbe",
        "colab_type": "code",
        "colab": {}
      },
      "source": [
        "import pandas as pd # Import Pandas\n",
        "from sklearn.feature_extraction.text import TfidfVectorizer # Import TfidfVectorizer\n",
        "from sklearn.decomposition import NMF # Import NMF\n",
        "from sklearn.feature_extraction import text\n",
        "\n",
        "import warnings # Import warnings to...\n",
        "warnings.filterwarnings(\"ignore\") #silence warnings\n",
        "\n",
        "from spacy.lang.fr.stop_words import STOP_WORDS as FR # Import french stopwords\n",
        "from spacy.lang.en.stop_words import STOP_WORDS as EN # Import english stopwords\n",
        "STOP = list(FR) + list(EN) + list(['intro', 'chorus', 'verse', 'hook', 'outro', 'll', 'ain', 'em', 'got', 'don', 'gon'])# load stopwords list in and add some songs related stopwords like chorus and intro\n",
        "\n",
        "from google.colab import drive # Import "
      ],
      "execution_count": 0,
      "outputs": []
    },
    {
      "cell_type": "markdown",
      "metadata": {
        "id": "6jpSWIRuIedl",
        "colab_type": "text"
      },
      "source": [
        "For this one, we used Google Colab platform to run our model. \n",
        "\n",
        "All used csv files were in a GDrive folder, so we needed to mount Google drive to allow direct access. "
      ]
    },
    {
      "cell_type": "code",
      "metadata": {
        "id": "ArUWjUazMB29",
        "colab_type": "code",
        "outputId": "2e1b82d1-6bb8-47e8-e86d-034982b89ad2",
        "colab": {
          "base_uri": "https://localhost:8080/",
          "height": 56
        }
      },
      "source": [
        "drive.mount('/content/drive') # mount drive\n",
        "root_path = 'drive/My Drive/Colab Notebooks/NLP with GeniusLyrics/'  #c set a new root path for folder"
      ],
      "execution_count": 91,
      "outputs": [
        {
          "output_type": "stream",
          "text": [
            "Drive already mounted at /content/drive; to attempt to forcibly remount, call drive.mount(\"/content/drive\", force_remount=True).\n"
          ],
          "name": "stdout"
        }
      ]
    },
    {
      "cell_type": "markdown",
      "metadata": {
        "id": "jfIkxDuvPIuB",
        "colab_type": "text"
      },
      "source": [
        "Let's convert to dataframe our previously scraped files:"
      ]
    },
    {
      "cell_type": "code",
      "metadata": {
        "id": "eaJnDLnbHFc4",
        "colab_type": "code",
        "colab": {}
      },
      "source": [
        "# convert files to Pandas Dataframe\n",
        "adb = pd.read_csv(root_path+'adb.csv', names=['ID', 'Lyrics'])\n",
        "asongtitle = pd.read_csv(root_path+'asongtitle.csv', names=['ID', 'Title'])\n",
        "aart = pd.read_csv(root_path+'aart.csv', names=['ID', 'Artist'])\n",
        "\n",
        "# Rename and drop ID Columms\n",
        "adb = adb.drop('ID', axis=1)\n",
        "adb = adb.drop([0], axis=0) #drop 0 which  doesn't have any lyrics\n",
        "asongtitle = asongtitle.drop('ID', axis=1)\n",
        "asongtitle = asongtitle.drop([11258], axis=0) #drop 11258 which  doesn't have any lyrics\n",
        "asongtitle = asongtitle.drop([0], axis=0) #drop 0 which  doesn't have any lyrics\n",
        "aart = aart.drop('ID', axis=1)"
      ],
      "execution_count": 0,
      "outputs": []
    },
    {
      "cell_type": "code",
      "metadata": {
        "id": "tFKzG-LoNLi3",
        "colab_type": "code",
        "colab": {
          "base_uri": "https://localhost:8080/",
          "height": 112
        },
        "outputId": "57368e3c-5520-4dda-a0b1-32bc3a76f7ec"
      },
      "source": [
        "asongtitle.head(2)"
      ],
      "execution_count": 93,
      "outputs": [
        {
          "output_type": "execute_result",
          "data": {
            "text/html": [
              "<div>\n",
              "<style scoped>\n",
              "    .dataframe tbody tr th:only-of-type {\n",
              "        vertical-align: middle;\n",
              "    }\n",
              "\n",
              "    .dataframe tbody tr th {\n",
              "        vertical-align: top;\n",
              "    }\n",
              "\n",
              "    .dataframe thead th {\n",
              "        text-align: right;\n",
              "    }\n",
              "</style>\n",
              "<table border=\"1\" class=\"dataframe\">\n",
              "  <thead>\n",
              "    <tr style=\"text-align: right;\">\n",
              "      <th></th>\n",
              "      <th>Title</th>\n",
              "    </tr>\n",
              "  </thead>\n",
              "  <tbody>\n",
              "    <tr>\n",
              "      <th>1</th>\n",
              "      <td>Never Bend</td>\n",
              "    </tr>\n",
              "    <tr>\n",
              "      <th>2</th>\n",
              "      <td>Run for Yo Life</td>\n",
              "    </tr>\n",
              "  </tbody>\n",
              "</table>\n",
              "</div>"
            ],
            "text/plain": [
              "             Title\n",
              "1       Never Bend\n",
              "2  Run for Yo Life"
            ]
          },
          "metadata": {
            "tags": []
          },
          "execution_count": 93
        }
      ]
    },
    {
      "cell_type": "code",
      "metadata": {
        "id": "CFpDMjmlNdZH",
        "colab_type": "code",
        "colab": {
          "base_uri": "https://localhost:8080/",
          "height": 112
        },
        "outputId": "b015163f-a6a5-4fe4-91a5-6ba0b010b70f"
      },
      "source": [
        "adb.head(2)"
      ],
      "execution_count": 94,
      "outputs": [
        {
          "output_type": "execute_result",
          "data": {
            "text/html": [
              "<div>\n",
              "<style scoped>\n",
              "    .dataframe tbody tr th:only-of-type {\n",
              "        vertical-align: middle;\n",
              "    }\n",
              "\n",
              "    .dataframe tbody tr th {\n",
              "        vertical-align: top;\n",
              "    }\n",
              "\n",
              "    .dataframe thead th {\n",
              "        text-align: right;\n",
              "    }\n",
              "</style>\n",
              "<table border=\"1\" class=\"dataframe\">\n",
              "  <thead>\n",
              "    <tr style=\"text-align: right;\">\n",
              "      <th></th>\n",
              "      <th>Lyrics</th>\n",
              "    </tr>\n",
              "  </thead>\n",
              "  <tbody>\n",
              "    <tr>\n",
              "      <th>1</th>\n",
              "      <td>\\n\\n[Intro]\\nYeah\\nYou lil bitch ass niggas st...</td>\n",
              "    </tr>\n",
              "    <tr>\n",
              "      <th>2</th>\n",
              "      <td>\\n\\n[Intro]\\n03, yeah, yeah\\n\\n[Chorus]\\nI bee...</td>\n",
              "    </tr>\n",
              "  </tbody>\n",
              "</table>\n",
              "</div>"
            ],
            "text/plain": [
              "                                              Lyrics\n",
              "1  \\n\\n[Intro]\\nYeah\\nYou lil bitch ass niggas st...\n",
              "2  \\n\\n[Intro]\\n03, yeah, yeah\\n\\n[Chorus]\\nI bee..."
            ]
          },
          "metadata": {
            "tags": []
          },
          "execution_count": 94
        }
      ]
    },
    {
      "cell_type": "markdown",
      "metadata": {
        "id": "PYEZ8dn1J4ja",
        "colab_type": "text"
      },
      "source": [
        "The following files were loaded:\n",
        "\n",
        "    *adb: contains all lyrics pulled from Genius.com\n",
        "    *asongtitle: contains songs title\n",
        "    *aart: contains names of these artists\n"
      ]
    },
    {
      "cell_type": "code",
      "metadata": {
        "id": "UdclOVr-NmOZ",
        "colab_type": "code",
        "colab": {
          "base_uri": "https://localhost:8080/",
          "height": 36
        },
        "outputId": "261abbc0-e8cd-4f01-845b-bb4f67de6bce"
      },
      "source": [
        "print(str('adb holds {} lyrics for 1397 artists.').format(len(adb)))"
      ],
      "execution_count": 95,
      "outputs": [
        {
          "output_type": "stream",
          "text": [
            "adb holds 13699 lyrics for 1397 artists.\n"
          ],
          "name": "stdout"
        }
      ]
    },
    {
      "cell_type": "markdown",
      "metadata": {
        "id": "dQsLlt6rLEJj",
        "colab_type": "text"
      },
      "source": [
        "We need to correcly flatten our Dataframes, as NLP uses list-like objects:"
      ]
    },
    {
      "cell_type": "code",
      "metadata": {
        "id": "zApeDu8BEL4-",
        "colab_type": "code",
        "colab": {}
      },
      "source": [
        "#flatten lyrics\n",
        "k = adb.values.tolist()\n",
        "lyr = []\n",
        "for n1 in k:\n",
        "    lyr.append(n1[0])\n",
        "\n",
        "#flatten songtitles\n",
        "k = asongtitle.values.tolist()\n",
        "songs = []\n",
        "for n1 in k:\n",
        "    songs.append(n1[0])"
      ],
      "execution_count": 0,
      "outputs": []
    },
    {
      "cell_type": "markdown",
      "metadata": {
        "id": "5kUO0vKMHFdB",
        "colab_type": "text"
      },
      "source": [
        "## Model"
      ]
    },
    {
      "cell_type": "markdown",
      "metadata": {
        "id": "8jFbcP2JfgDk",
        "colab_type": "text"
      },
      "source": [
        "To run our model, we need first to prepare the text we are supposed to feed to our model by transforming it to a text vectorizer. We have to add as parameters stopwords. Stopwords are words that are common in texts like 'a', 'the' and so on.\n",
        "\n",
        "When processing, we noticed that in our list we have some french rappers in it like PNL, so we worked with a list containing both languages stopwords.\n",
        "\n",
        "The following vectorizer is:"
      ]
    },
    {
      "cell_type": "markdown",
      "metadata": {
        "id": "bHelHgjIHFdC",
        "colab_type": "text"
      },
      "source": [
        "### 1- Tfidfvectorizer"
      ]
    },
    {
      "cell_type": "code",
      "metadata": {
        "id": "8qGAGwmAHFdE",
        "colab_type": "code",
        "colab": {}
      },
      "source": [
        "# Create a TfidfVectorizer: tfidf\n",
        "tfidf = TfidfVectorizer(max_df=0.95, min_df=0.2, stop_words=STOP, use_idf=True) \n",
        "\n",
        "# Apply fit_transform to document: csr_mat\n",
        "csr_mat = tfidf.fit_transform(lyr)\n",
        "\n",
        "# Get the words: words\n",
        "words = tfidf.get_feature_names()"
      ],
      "execution_count": 0,
      "outputs": []
    },
    {
      "cell_type": "markdown",
      "metadata": {
        "id": "6fExAUc2g8_m",
        "colab_type": "text"
      },
      "source": [
        "Now let's run our model with the transformed matrix:"
      ]
    },
    {
      "cell_type": "markdown",
      "metadata": {
        "id": "VGmwIKGYeQII",
        "colab_type": "text"
      },
      "source": [
        "### 2- Non negative Matrix Factorization"
      ]
    },
    {
      "cell_type": "markdown",
      "metadata": {
        "id": "L9GYZ9uJhMyJ",
        "colab_type": "text"
      },
      "source": [
        "One of the most subjective part of NMF processing is that we need to feed the number of components (theme). How can we know the number of themes that could be ?\n",
        "\n",
        "Well, we tried some and by default used 3."
      ]
    },
    {
      "cell_type": "code",
      "metadata": {
        "id": "kxa6qvcUHFdJ",
        "colab_type": "code",
        "colab": {}
      },
      "source": [
        "# Create an NMF instance: model\n",
        "model = NMF(n_components=3)\n",
        "\n",
        "# Fit the model to articles\n",
        "model.fit(csr_mat)\n",
        "\n",
        "# Transform the articles: nmf_features\n",
        "nmf_features = model.transform(csr_mat)"
      ],
      "execution_count": 0,
      "outputs": []
    },
    {
      "cell_type": "markdown",
      "metadata": {
        "id": "GjiLzknMfAEZ",
        "colab_type": "text"
      },
      "source": [
        "### 3- Comments on Components"
      ]
    },
    {
      "cell_type": "markdown",
      "metadata": {
        "id": "rIf-kjOwfMg4",
        "colab_type": "text"
      },
      "source": [
        "To have a clear idea of principal words describing our components, we will print top 10 of them:"
      ]
    },
    {
      "cell_type": "code",
      "metadata": {
        "id": "oA2bjnNdcVGc",
        "colab_type": "code",
        "outputId": "c11b6ed7-2e1d-4b85-80b1-61c354b9a0d2",
        "colab": {
          "base_uri": "https://localhost:8080/",
          "height": 242
        }
      },
      "source": [
        "# Print top 10 words\n",
        "for i,topic in enumerate(model.components_):\n",
        "    print(f'Top 10 words for topic #{i}:')\n",
        "    print([words[i] for i in topic.argsort()[-10:]])\n",
        "    print('\\n')"
      ],
      "execution_count": 99,
      "outputs": [
        {
          "output_type": "stream",
          "text": [
            "Top 10 words for topic #0:\n",
            "['come', 'life', 'way', 'let', 'time', 'man', 'love', 'cause', 'know', 'like']\n",
            "\n",
            "\n",
            "Top 10 words for topic #1:\n",
            "['ya', 'money', 'bitches', 'ass', 'like', 'shit', 'fuck', 'bitch', 'niggas', 'nigga']\n",
            "\n",
            "\n",
            "Top 10 words for topic #2:\n",
            "['let', 'right', 'wanna', 'want', 'bitch', 'love', 'know', 'girl', 'baby', 'yeah']\n",
            "\n",
            "\n"
          ],
          "name": "stdout"
        }
      ]
    },
    {
      "cell_type": "markdown",
      "metadata": {
        "id": "SVZicyqwe-9T",
        "colab_type": "text"
      },
      "source": [
        "Main themes in Rap songs are finally revealed here.\n",
        "\n",
        "As we can see, first topic is related to Conscient Hip Hop. We can see 'life', 'way', 'time' and 'love' that links to conscious and more profound contents in those lyrics (https://en.wikipedia.org/wiki/Political_hip_hop#Conscious_hip_hop).\n",
        "\n",
        "Second topic is related to non- conscious themes, as self love, ego, money and commonly encountered  themes in actual gangsta hip hop songs.\n",
        "\n",
        "Last one is related to Love songs with 'love' and/ or 'baby' (https://www.redbull.com/au-en/best-rap-love-songs).\n",
        "\n",
        "This work could later be extended with comparison between early 90's artists and current ones themes, and highliting some artists names representing those different streams.\n",
        "\n"
      ]
    }
  ]
}